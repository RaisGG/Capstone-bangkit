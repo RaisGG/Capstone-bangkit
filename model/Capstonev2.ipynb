{
  "nbformat": 4,
  "nbformat_minor": 0,
  "metadata": {
    "colab": {
      "name": "Capstonev2.ipynb",
      "provenance": [],
      "collapsed_sections": [],
      "toc_visible": true
    },
    "kernelspec": {
      "name": "python3",
      "display_name": "Python 3"
    },
    "language_info": {
      "name": "python"
    },
    "accelerator": "GPU"
  },
  "cells": [
    {
      "cell_type": "markdown",
      "metadata": {
        "id": "EVs1FDs-O8hG"
      },
      "source": [
        "# **Install Library**"
      ]
    },
    {
      "cell_type": "code",
      "metadata": {
        "id": "A8RQOj44OsHl"
      },
      "source": [
        "from google.colab import drive\n",
        "import zipfile\n",
        "import os\n",
        "import random\n",
        "import numpy as np\n",
        "\n",
        "import tensorflow as tf\n",
        "from tensorflow.keras.preprocessing.image import ImageDataGenerator\n",
        "from tensorflow.keras.applications.mobilenet_v2 import MobileNetV2\n",
        "from tensorflow.keras.applications.mobilenet_v2 import preprocess_input as preprocess_mobilenet\n",
        "\n",
        "from tensorflow.keras.models import Model\n",
        "from tensorflow.keras.layers import Dense, Flatten, Dropout, Input\n"
      ],
      "execution_count": null,
      "outputs": []
    },
    {
      "cell_type": "code",
      "metadata": {
        "colab": {
          "base_uri": "https://localhost:8080/"
        },
        "id": "BiOI__57Paq0",
        "outputId": "3d0287d3-1ffe-44de-e12b-86de2136ea8c"
      },
      "source": [
        "#mount Gdrive\n",
        "drive.mount('/content/drive')\n",
        "#drive.mount(\"/content/drive\", force_remount=True)"
      ],
      "execution_count": null,
      "outputs": [
        {
          "output_type": "stream",
          "text": [
            "Mounted at /content/drive\n"
          ],
          "name": "stdout"
        }
      ]
    },
    {
      "cell_type": "code",
      "metadata": {
        "id": "taRzYNU2Pcq3"
      },
      "source": [
        "# melakukan ekstraksi pada file zip\n",
        "\n",
        "local_zip = '/content/drive/MyDrive/fruits-360.zip' \n",
        "zip_ref = zipfile.ZipFile(local_zip, 'r')\n",
        "zip_ref.extractall('/content')\n",
        "zip_ref.close()\n"
      ],
      "execution_count": null,
      "outputs": []
    },
    {
      "cell_type": "code",
      "metadata": {
        "id": "qLuIqrUpRY0S"
      },
      "source": [
        "# menentukan direktori\n",
        "base_dir = \"/content\"\n",
        "train_dir = os.path.join(base_dir,'Training')\n",
        "test_dir = os.path.join(base_dir, 'Test')"
      ],
      "execution_count": null,
      "outputs": []
    },
    {
      "cell_type": "markdown",
      "metadata": {
        "id": "Sg65RTi-SWKr"
      },
      "source": [
        "# **Membuat model**"
      ]
    },
    {
      "cell_type": "code",
      "metadata": {
        "colab": {
          "base_uri": "https://localhost:8080/"
        },
        "id": "W5kUR3xDRtM8",
        "outputId": "29af342c-1401-41ee-f890-dd624eb9cec2"
      },
      "source": [
        "#total kelas\n",
        "total_kelas = len(os.listdir(train_dir))\n",
        "print(\"Jumlah kelas adalah {}\".format(total_kelas))"
      ],
      "execution_count": null,
      "outputs": [
        {
          "output_type": "stream",
          "text": [
            "Jumlah kelas adalah 131\n"
          ],
          "name": "stdout"
        }
      ]
    },
    {
      "cell_type": "code",
      "metadata": {
        "id": "0lU6WikqS394"
      },
      "source": [
        "IMAGE_SIZE=[224, 224]\n",
        "BATCH_SIZE=32"
      ],
      "execution_count": null,
      "outputs": []
    },
    {
      "cell_type": "code",
      "metadata": {
        "id": "pKPPBdEl88Ub"
      },
      "source": [
        "#membuat generator\n",
        "train_val_generator = ImageDataGenerator(\n",
        "                                        preprocessing_function=preprocess_mobilenet,    \n",
        "                                        rotation_range=30,\n",
        "                                        width_shift_range=0.2,\n",
        "                                        height_shift_range=0.2,\n",
        "                                        shear_range=0.1,\n",
        "                                        zoom_range=0.2,\n",
        "                                        horizontal_flip=True,\n",
        "                                        vertical_flip=True,\n",
        "                                        fill_mode='nearest',\n",
        "                                        validation_split=0.2\n",
        "                                        )\n",
        "\n",
        "test_generator  = ImageDataGenerator(preprocessing_function=preprocess_mobilenet)\n"
      ],
      "execution_count": null,
      "outputs": []
    },
    {
      "cell_type": "code",
      "metadata": {
        "colab": {
          "base_uri": "https://localhost:8080/"
        },
        "id": "75ok8_ml9He3",
        "outputId": "70c3ffe2-5d18-41cd-bcd1-0edf85fbd918"
      },
      "source": [
        "# setting sana sini pak\n",
        "train_data = train_val_generator.flow_from_directory(train_dir, \n",
        "                                                    target_size=IMAGE_SIZE,\n",
        "                                                    batch_size=BATCH_SIZE,\n",
        "                                                    class_mode='categorical',\n",
        "                                                    color_mode='rgb',\n",
        "                                                    subset='training',\n",
        "                                                    shuffle=True,\n",
        "                                                    )\n",
        "\n",
        "val_data = train_val_generator.flow_from_directory(train_dir, \n",
        "                                                  target_size=IMAGE_SIZE,\n",
        "                                                  batch_size=BATCH_SIZE,\n",
        "                                                  class_mode='categorical',\n",
        "                                                  color_mode='rgb',\n",
        "                                                  subset='validation',\n",
        "                                                  shuffle=True,\n",
        "                                                  )\n",
        "\n",
        "test_data = test_generator.flow_from_directory(test_dir, \n",
        "                                               target_size=IMAGE_SIZE,\n",
        "                                               batch_size=1,\n",
        "                                               class_mode='categorical',\n",
        "                                               color_mode='rgb',\n",
        "                                               shuffle=False\n",
        "                                               )"
      ],
      "execution_count": null,
      "outputs": [
        {
          "output_type": "stream",
          "text": [
            "Found 54190 images belonging to 131 classes.\n",
            "Found 13502 images belonging to 131 classes.\n",
            "Found 22688 images belonging to 131 classes.\n"
          ],
          "name": "stdout"
        }
      ]
    },
    {
      "cell_type": "code",
      "metadata": {
        "colab": {
          "base_uri": "https://localhost:8080/"
        },
        "id": "mmLqsjus9cX4",
        "outputId": "29cf3e31-27f5-4398-a62e-656ea14f5eac"
      },
      "source": [
        "#membuat pre-trained mobilenet\n",
        "base_model = MobileNetV2(input_shape=IMAGE_SIZE + [3],\n",
        "                         include_top=False,\n",
        "                         weights='imagenet',\n",
        "                         pooling='avg'\n",
        "                         )\n",
        "\n",
        "for layer in base_model.layers:\n",
        "    layer.trainable = False"
      ],
      "execution_count": null,
      "outputs": [
        {
          "output_type": "stream",
          "text": [
            "Downloading data from https://storage.googleapis.com/tensorflow/keras-applications/mobilenet_v2/mobilenet_v2_weights_tf_dim_ordering_tf_kernels_1.0_224_no_top.h5\n",
            "9412608/9406464 [==============================] - 0s 0us/step\n"
          ],
          "name": "stdout"
        }
      ]
    },
    {
      "cell_type": "code",
      "metadata": {
        "id": "h5zpfDrf9Vki"
      },
      "source": [
        "#menambah layer kita di akhir\n",
        "x_input = base_model.input\n",
        "\n",
        "output = Dense(total_kelas, activation='softmax')(base_model.output)\n",
        "\n",
        "model = Model(x_input, output)\n",
        "\n",
        "model.compile(optimizer='adam', loss='categorical_crossentropy', metrics=['accuracy'])"
      ],
      "execution_count": null,
      "outputs": []
    },
    {
      "cell_type": "code",
      "metadata": {
        "id": "u0gsfFZ15csT"
      },
      "source": [
        ""
      ],
      "execution_count": null,
      "outputs": []
    },
    {
      "cell_type": "code",
      "metadata": {
        "id": "Bk7os03w-Lkj",
        "colab": {
          "base_uri": "https://localhost:8080/"
        },
        "outputId": "93ec4a49-3646-4e9c-cee8-9ead3149558c"
      },
      "source": [
        "#training model\n",
        "hist = model.fit(train_data,\n",
        "                 validation_data=val_data,\n",
        "                 epochs=10, #enaknya berapa epochs?\n",
        "                 verbose=1)"
      ],
      "execution_count": null,
      "outputs": [
        {
          "output_type": "stream",
          "text": [
            "Epoch 1/10\n",
            "1694/1694 [==============================] - 680s 383ms/step - loss: 0.4006 - accuracy: 0.9222 - val_loss: 0.1516 - val_accuracy: 0.9600\n",
            "Epoch 2/10\n",
            "1694/1694 [==============================] - 644s 380ms/step - loss: 0.0671 - accuracy: 0.9855 - val_loss: 0.1223 - val_accuracy: 0.9627\n",
            "Epoch 3/10\n",
            "1694/1694 [==============================] - 638s 376ms/step - loss: 0.0478 - accuracy: 0.9872 - val_loss: 0.0901 - val_accuracy: 0.9710\n",
            "Epoch 4/10\n",
            "1694/1694 [==============================] - 635s 375ms/step - loss: 0.0340 - accuracy: 0.9903 - val_loss: 0.0845 - val_accuracy: 0.9729\n",
            "Epoch 5/10\n",
            "1694/1694 [==============================] - 633s 374ms/step - loss: 0.0300 - accuracy: 0.9910 - val_loss: 0.0696 - val_accuracy: 0.9766\n",
            "Epoch 6/10\n",
            "1694/1694 [==============================] - 632s 373ms/step - loss: 0.0239 - accuracy: 0.9926 - val_loss: 0.0729 - val_accuracy: 0.9751\n",
            "Epoch 7/10\n",
            "1694/1694 [==============================] - 633s 374ms/step - loss: 0.0230 - accuracy: 0.9931 - val_loss: 0.0699 - val_accuracy: 0.9767\n",
            "Epoch 8/10\n",
            "1694/1694 [==============================] - 633s 374ms/step - loss: 0.0230 - accuracy: 0.9925 - val_loss: 0.0722 - val_accuracy: 0.9749\n",
            "Epoch 9/10\n",
            "1694/1694 [==============================] - 632s 373ms/step - loss: 0.0195 - accuracy: 0.9941 - val_loss: 0.0827 - val_accuracy: 0.9736\n",
            "Epoch 10/10\n",
            "1694/1694 [==============================] - 633s 373ms/step - loss: 0.0188 - accuracy: 0.9940 - val_loss: 0.0745 - val_accuracy: 0.9749\n"
          ],
          "name": "stdout"
        }
      ]
    },
    {
      "cell_type": "markdown",
      "metadata": {
        "id": "YLeFMQBjg-gV"
      },
      "source": [
        ""
      ]
    },
    {
      "cell_type": "code",
      "metadata": {
        "colab": {
          "base_uri": "https://localhost:8080/",
          "height": 298
        },
        "id": "z-pDoYkeIHzV",
        "outputId": "5dd45b84-7f96-4a13-c8e5-5354dfcb6d79"
      },
      "source": [
        "import matplotlib.pyplot as plt\n",
        "acc = hist.history['accuracy']\n",
        "val_acc = hist.history['val_accuracy']\n",
        "loss = hist.history['loss']\n",
        "val_loss = hist.history['val_loss']\n",
        "\n",
        "epochs = range(len(acc))\n",
        "\n",
        "plt.plot(epochs, acc, 'r', label='Training accuracy')\n",
        "plt.plot(epochs, val_acc, 'b', label='Validation accuracy')\n",
        "plt.title('Training and validation accuracy')\n",
        "plt.legend(loc=0)\n",
        "plt.figure()\n",
        "\n",
        "\n",
        "plt.show()"
      ],
      "execution_count": null,
      "outputs": [
        {
          "output_type": "display_data",
          "data": {
            "image/png": "[encoded data removed]",
            "text/plain": [
              "<Figure size 432x288 with 1 Axes>"
            ]
          },
          "metadata": {
            "tags": [],
            "needs_background": "light"
          }
        },
        {
          "output_type": "display_data",
          "data": {
            "text/plain": [
              "<Figure size 432x288 with 0 Axes>"
            ]
          },
          "metadata": {
            "tags": []
          }
        }
      ]
    },
    {
      "cell_type": "markdown",
      "metadata": {
        "id": "rq7cUX3H_Ie-"
      },
      "source": [
        "# Export Model (belum diedit)"
      ]
    },
    {
      "cell_type": "code",
      "metadata": {
        "id": "mZ7DiEFE_Hrk",
        "colab": {
          "base_uri": "https://localhost:8080/"
        },
        "outputId": "d9da1c5e-4d8d-4377-9da2-97514b03d44a"
      },
      "source": [
        "saved_model_dir = '/content/TFLite'\n",
        "tf.saved_model.save(model, saved_model_dir)"
      ],
      "execution_count": null,
      "outputs": [
        {
          "output_type": "stream",
          "text": [
            "/usr/local/lib/python3.7/dist-packages/tensorflow/python/keras/utils/generic_utils.py:497: CustomMaskWarning: Custom mask layers require a config and must override get_config. When loading, the custom mask layer must be passed to the custom_objects argument.\n",
            "  category=CustomMaskWarning)\n"
          ],
          "name": "stderr"
        },
        {
          "output_type": "stream",
          "text": [
            "WARNING:tensorflow:FOR KERAS USERS: The object that you are saving contains one or more Keras models or layers. If you are loading the SavedModel with `tf.keras.models.load_model`, continue reading (otherwise, you may ignore the following instructions). Please change your code to save with `tf.keras.models.save_model` or `model.save`, and confirm that the file \"keras.metadata\" exists in the export directory. In the future, Keras will only load the SavedModels that have this file. In other words, `tf.saved_model.save` will no longer write SavedModels that can be recovered as Keras models (this will apply in TF 2.5).\n",
            "\n",
            "FOR DEVS: If you are overwriting _tracking_metadata in your class, this property has been used to save metadata in the SavedModel. The metadta field will be deprecated soon, so please move the metadata to a different file.\n",
            "INFO:tensorflow:Assets written to: /content/TFLite/assets\n"
          ],
          "name": "stdout"
        }
      ]
    },
    {
      "cell_type": "markdown",
      "metadata": {
        "id": "ManO38yO_hJJ"
      },
      "source": [
        "# Convert Using TFLite's Converter"
      ]
    },
    {
      "cell_type": "code",
      "metadata": {
        "id": "AGmMmL-j_U9Z"
      },
      "source": [
        "converter = tf.lite.TFLiteConverter.from_saved_model(saved_model_dir)\n",
        "tflite_model = converter.convert()"
      ],
      "execution_count": null,
      "outputs": []
    },
    {
      "cell_type": "code",
      "metadata": {
        "id": "ksOoBboo_XIb"
      },
      "source": [
        "with open('model.tflite', 'wb') as f:\n",
        "  f.write(tflite_model)"
      ],
      "execution_count": null,
      "outputs": []
    },
    {
      "cell_type": "code",
      "metadata": {
        "id": "1EkADo1u_aRd"
      },
      "source": [
        "labels = '\\n'.join(sorted(train_data.class_indices.keys()))"
      ],
      "execution_count": null,
      "outputs": []
    },
    {
      "cell_type": "code",
      "metadata": {
        "id": "KatV1eci_cfB"
      },
      "source": [
        "with open('labels.txt', 'w') as f:\n",
        "  f.write(labels)"
      ],
      "execution_count": null,
      "outputs": []
    },
    {
      "cell_type": "markdown",
      "metadata": {
        "id": "JfRiYmQ83VxE"
      },
      "source": [
        "# Download model"
      ]
    },
    {
      "cell_type": "code",
      "metadata": {
        "id": "AxvCl0bI_gKT",
        "colab": {
          "base_uri": "https://localhost:8080/"
        },
        "outputId": "34f4a5b5-1085-49fd-e8fa-eb3460448a5c"
      },
      "source": [
        "!zip -r /content/file.zip /content/TFLite"
      ],
      "execution_count": null,
      "outputs": [
        {
          "output_type": "stream",
          "text": [
            "  adding: content/TFLite/ (stored 0%)\n",
            "  adding: content/TFLite/assets/ (stored 0%)\n",
            "  adding: content/TFLite/saved_model.pb (deflated 92%)\n",
            "  adding: content/TFLite/variables/ (stored 0%)\n",
            "  adding: content/TFLite/variables/variables.data-00000-of-00001 (deflated 7%)\n",
            "  adding: content/TFLite/variables/variables.index (deflated 77%)\n"
          ],
          "name": "stdout"
        }
      ]
    },
    {
      "cell_type": "code",
      "metadata": {
        "id": "d7wYg5-2_peu",
        "colab": {
          "base_uri": "https://localhost:8080/",
          "height": 17
        },
        "outputId": "fc02eb07-efb0-4a3f-8f02-13844526509f"
      },
      "source": [
        "from google.colab import files\n",
        "files.download(\"/content/model.tflite\")"
      ],
      "execution_count": null,
      "outputs": [
        {
          "output_type": "display_data",
          "data": {
            "application/javascript": [
              "\n",
              "    async function download(id, filename, size) {\n",
              "      if (!google.colab.kernel.accessAllowed) {\n",
              "        return;\n",
              "      }\n",
              "      const div = document.createElement('div');\n",
              "      const label = document.createElement('label');\n",
              "      label.textContent = `Downloading \"${filename}\": `;\n",
              "      div.appendChild(label);\n",
              "      const progress = document.createElement('progress');\n",
              "      progress.max = size;\n",
              "      div.appendChild(progress);\n",
              "      document.body.appendChild(div);\n",
              "\n",
              "      const buffers = [];\n",
              "      let downloaded = 0;\n",
              "\n",
              "      const channel = await google.colab.kernel.comms.open(id);\n",
              "      // Send a message to notify the kernel that we're ready.\n",
              "      channel.send({})\n",
              "\n",
              "      for await (const message of channel.messages) {\n",
              "        // Send a message to notify the kernel that we're ready.\n",
              "        channel.send({})\n",
              "        if (message.buffers) {\n",
              "          for (const buffer of message.buffers) {\n",
              "            buffers.push(buffer);\n",
              "            downloaded += buffer.byteLength;\n",
              "            progress.value = downloaded;\n",
              "          }\n",
              "        }\n",
              "      }\n",
              "      const blob = new Blob(buffers, {type: 'application/binary'});\n",
              "      const a = document.createElement('a');\n",
              "      a.href = window.URL.createObjectURL(blob);\n",
              "      a.download = filename;\n",
              "      div.appendChild(a);\n",
              "      a.click();\n",
              "      div.remove();\n",
              "    }\n",
              "  "
            ],
            "text/plain": [
              "<IPython.core.display.Javascript object>"
            ]
          },
          "metadata": {
            "tags": []
          }
        },
        {
          "output_type": "display_data",
          "data": {
            "application/javascript": [
              "download(\"download_b7be827e-df56-44da-a72e-4b772b6ba629\", \"model.tflite\", 9530516)"
            ],
            "text/plain": [
              "<IPython.core.display.Javascript object>"
            ]
          },
          "metadata": {
            "tags": []
          }
        }
      ]
    },
    {
      "cell_type": "code",
      "metadata": {
        "colab": {
          "base_uri": "https://localhost:8080/",
          "height": 162
        },
        "id": "WH2BkrB45vJ8",
        "outputId": "ac9cea02-8ba3-4dc3-b691-13cbb61b7861"
      },
      "source": [
        "files.download(\"/content/labels.txt\")"
      ],
      "execution_count": null,
      "outputs": [
        {
          "output_type": "error",
          "ename": "NameError",
          "evalue": "ignored",
          "traceback": [
            "\u001b[0;31m---------------------------------------------------------------------------\u001b[0m",
            "\u001b[0;31mNameError\u001b[0m                                 Traceback (most recent call last)",
            "\u001b[0;32m<ipython-input-1-93cf10e569f3>\u001b[0m in \u001b[0;36m<module>\u001b[0;34m()\u001b[0m\n\u001b[0;32m----> 1\u001b[0;31m \u001b[0mfiles\u001b[0m\u001b[0;34m.\u001b[0m\u001b[0mdownload\u001b[0m\u001b[0;34m(\u001b[0m\u001b[0;34m\"/content/labels.txt\"\u001b[0m\u001b[0;34m)\u001b[0m\u001b[0;34m\u001b[0m\u001b[0;34m\u001b[0m\u001b[0m\n\u001b[0m",
            "\u001b[0;31mNameError\u001b[0m: name 'files' is not defined"
          ]
        }
      ]
    },
    {
      "cell_type": "code",
      "metadata": {
        "id": "qNdD6QVRFy6_"
      },
      "source": [
        "files.download(\"/content/file.zip\")"
      ],
      "execution_count": null,
      "outputs": []
    },
    {
      "cell_type": "markdown",
      "metadata": {
        "id": "AWph_NhR_1TB"
      },
      "source": [
        "# Test the TFLite Model Using the Python Interpreter"
      ]
    }
  ]
}